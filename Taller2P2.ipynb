{
  "nbformat": 4,
  "nbformat_minor": 0,
  "metadata": {
    "colab": {
      "name": "Taller2P2.ipynb",
      "provenance": [],
      "collapsed_sections": [
        "695Sup6s5XOc"
      ]
    },
    "kernelspec": {
      "name": "python3",
      "display_name": "Python 3"
    }
  },
  "cells": [
    {
      "cell_type": "markdown",
      "metadata": {
        "id": "Z9l3IH5fyFZn"
      },
      "source": [
        "<strong><h1>UNIVERSIDAD NACIONAL DE COLOMBIA\n",
        "\n",
        "<h2>FACULTAD DE INGENIERÍA<h2>\n",
        "\n",
        "<h2>DEPARTAMENTO DE INGENIERÍA DE SISTEMAS E INDUSTRIAL<h2>\n",
        "\n",
        "<h2>Taller de Herraminetas y Problemas en Ingeniería Industrial</h2>\n",
        "\n",
        "<strong><h2>Taller 2. Modelado matemático</h2></strong>\n",
        "\n",
        "<h3>Laura Julieth Gavidia Malaver</h3>\n",
        "\n",
        "<h3>Santiago Irreño Mejía</h3>\n",
        "\n",
        "\n",
        "---\n",
        "\n",
        "\n",
        "\n"
      ]
    },
    {
      "cell_type": "markdown",
      "metadata": {
        "id": "yJuyH-qlyWy2"
      },
      "source": [
        "El contenido de este notebook de python corresponde al desarrollo del segundo punto del Taller II.\n",
        "\n",
        "Dados los datos dados en el archivo insurance.csv realizar las siguientes actividades:"
      ]
    },
    {
      "cell_type": "markdown",
      "metadata": {
        "id": "2WQavHYAzjva"
      },
      "source": [
        "## **1. Gráficos de dispersión.**\n",
        "\n",
        "\n",
        ">  Realizar un gráfico de dispersión de la variable charges versus cada una de las variable cuantitativas y respoder, ¿Es posible observar una relación entre los valores de las variables cuantitativas y la variable charges?.\n",
        "\n"
      ]
    },
    {
      "cell_type": "code",
      "metadata": {
        "id": "FSxmMpGExtS_"
      },
      "source": [
        "import pandas as pd \n",
        "import matplotlib.pyplot as plt\n",
        "import numpy as np"
      ],
      "execution_count": null,
      "outputs": []
    },
    {
      "cell_type": "code",
      "metadata": {
        "id": "mRf0PRQM0Qul",
        "outputId": "9320ad8c-0d13-45df-c033-f27cf01045f6",
        "colab": {
          "base_uri": "https://localhost:8080/",
          "height": 34
        }
      },
      "source": [
        "from google.colab import drive\n",
        "drive.mount('/content/gdrive')"
      ],
      "execution_count": null,
      "outputs": [
        {
          "output_type": "stream",
          "text": [
            "Drive already mounted at /content/gdrive; to attempt to forcibly remount, call drive.mount(\"/content/gdrive\", force_remount=True).\n"
          ],
          "name": "stdout"
        }
      ]
    },
    {
      "cell_type": "code",
      "metadata": {
        "id": "4__CadT50YgY"
      },
      "source": [
        "import os \n",
        "os.chdir (\"/content/gdrive/My Drive/THPII/DataFiles\")"
      ],
      "execution_count": null,
      "outputs": []
    },
    {
      "cell_type": "code",
      "metadata": {
        "id": "Iz4XgFsF03Qv",
        "outputId": "ad0de67e-33ee-4fec-bf02-5801b6c87666",
        "colab": {
          "base_uri": "https://localhost:8080/",
          "height": 85
        }
      },
      "source": [
        "!ls"
      ],
      "execution_count": null,
      "outputs": [
        {
          "output_type": "stream",
          "text": [
            "datos1.txt\t      Resultados_Saber_Pro_Competencias_Especificas_2018-2.csv\n",
            "datos.csv\t      Resultados_Saber_Pro_Competencias_Genericas_2018-2.csv\n",
            "insurance.csv\t      SIVICAP_2016V2.xlsx\n",
            "Poblacion2018V2.xlsx\n"
          ],
          "name": "stdout"
        }
      ]
    },
    {
      "cell_type": "code",
      "metadata": {
        "id": "mC1st8cF1EZ2",
        "outputId": "8fd99e94-d17d-43ab-e218-abc07d8e4856",
        "colab": {
          "base_uri": "https://localhost:8080/",
          "height": 419
        }
      },
      "source": [
        "datos=pd.read_csv('insurance.csv')\n",
        "datos"
      ],
      "execution_count": null,
      "outputs": [
        {
          "output_type": "execute_result",
          "data": {
            "text/html": [
              "<div>\n",
              "<style scoped>\n",
              "    .dataframe tbody tr th:only-of-type {\n",
              "        vertical-align: middle;\n",
              "    }\n",
              "\n",
              "    .dataframe tbody tr th {\n",
              "        vertical-align: top;\n",
              "    }\n",
              "\n",
              "    .dataframe thead th {\n",
              "        text-align: right;\n",
              "    }\n",
              "</style>\n",
              "<table border=\"1\" class=\"dataframe\">\n",
              "  <thead>\n",
              "    <tr style=\"text-align: right;\">\n",
              "      <th></th>\n",
              "      <th>age</th>\n",
              "      <th>sex</th>\n",
              "      <th>bmi</th>\n",
              "      <th>children</th>\n",
              "      <th>smoker</th>\n",
              "      <th>region</th>\n",
              "      <th>charges</th>\n",
              "    </tr>\n",
              "  </thead>\n",
              "  <tbody>\n",
              "    <tr>\n",
              "      <th>0</th>\n",
              "      <td>19</td>\n",
              "      <td>female</td>\n",
              "      <td>27.900</td>\n",
              "      <td>0</td>\n",
              "      <td>yes</td>\n",
              "      <td>southwest</td>\n",
              "      <td>16884.92400</td>\n",
              "    </tr>\n",
              "    <tr>\n",
              "      <th>1</th>\n",
              "      <td>18</td>\n",
              "      <td>male</td>\n",
              "      <td>33.770</td>\n",
              "      <td>1</td>\n",
              "      <td>no</td>\n",
              "      <td>southeast</td>\n",
              "      <td>1725.55230</td>\n",
              "    </tr>\n",
              "    <tr>\n",
              "      <th>2</th>\n",
              "      <td>28</td>\n",
              "      <td>male</td>\n",
              "      <td>33.000</td>\n",
              "      <td>3</td>\n",
              "      <td>no</td>\n",
              "      <td>southeast</td>\n",
              "      <td>4449.46200</td>\n",
              "    </tr>\n",
              "    <tr>\n",
              "      <th>3</th>\n",
              "      <td>33</td>\n",
              "      <td>male</td>\n",
              "      <td>22.705</td>\n",
              "      <td>0</td>\n",
              "      <td>no</td>\n",
              "      <td>northwest</td>\n",
              "      <td>21984.47061</td>\n",
              "    </tr>\n",
              "    <tr>\n",
              "      <th>4</th>\n",
              "      <td>32</td>\n",
              "      <td>male</td>\n",
              "      <td>28.880</td>\n",
              "      <td>0</td>\n",
              "      <td>no</td>\n",
              "      <td>northwest</td>\n",
              "      <td>3866.85520</td>\n",
              "    </tr>\n",
              "    <tr>\n",
              "      <th>...</th>\n",
              "      <td>...</td>\n",
              "      <td>...</td>\n",
              "      <td>...</td>\n",
              "      <td>...</td>\n",
              "      <td>...</td>\n",
              "      <td>...</td>\n",
              "      <td>...</td>\n",
              "    </tr>\n",
              "    <tr>\n",
              "      <th>1333</th>\n",
              "      <td>50</td>\n",
              "      <td>male</td>\n",
              "      <td>30.970</td>\n",
              "      <td>3</td>\n",
              "      <td>no</td>\n",
              "      <td>northwest</td>\n",
              "      <td>10600.54830</td>\n",
              "    </tr>\n",
              "    <tr>\n",
              "      <th>1334</th>\n",
              "      <td>18</td>\n",
              "      <td>female</td>\n",
              "      <td>31.920</td>\n",
              "      <td>0</td>\n",
              "      <td>no</td>\n",
              "      <td>northeast</td>\n",
              "      <td>2205.98080</td>\n",
              "    </tr>\n",
              "    <tr>\n",
              "      <th>1335</th>\n",
              "      <td>18</td>\n",
              "      <td>female</td>\n",
              "      <td>36.850</td>\n",
              "      <td>0</td>\n",
              "      <td>no</td>\n",
              "      <td>southeast</td>\n",
              "      <td>1629.83350</td>\n",
              "    </tr>\n",
              "    <tr>\n",
              "      <th>1336</th>\n",
              "      <td>21</td>\n",
              "      <td>female</td>\n",
              "      <td>25.800</td>\n",
              "      <td>0</td>\n",
              "      <td>no</td>\n",
              "      <td>southwest</td>\n",
              "      <td>2007.94500</td>\n",
              "    </tr>\n",
              "    <tr>\n",
              "      <th>1337</th>\n",
              "      <td>61</td>\n",
              "      <td>female</td>\n",
              "      <td>29.070</td>\n",
              "      <td>0</td>\n",
              "      <td>yes</td>\n",
              "      <td>northwest</td>\n",
              "      <td>29141.36030</td>\n",
              "    </tr>\n",
              "  </tbody>\n",
              "</table>\n",
              "<p>1338 rows × 7 columns</p>\n",
              "</div>"
            ],
            "text/plain": [
              "      age     sex     bmi  children smoker     region      charges\n",
              "0      19  female  27.900         0    yes  southwest  16884.92400\n",
              "1      18    male  33.770         1     no  southeast   1725.55230\n",
              "2      28    male  33.000         3     no  southeast   4449.46200\n",
              "3      33    male  22.705         0     no  northwest  21984.47061\n",
              "4      32    male  28.880         0     no  northwest   3866.85520\n",
              "...   ...     ...     ...       ...    ...        ...          ...\n",
              "1333   50    male  30.970         3     no  northwest  10600.54830\n",
              "1334   18  female  31.920         0     no  northeast   2205.98080\n",
              "1335   18  female  36.850         0     no  southeast   1629.83350\n",
              "1336   21  female  25.800         0     no  southwest   2007.94500\n",
              "1337   61  female  29.070         0    yes  northwest  29141.36030\n",
              "\n",
              "[1338 rows x 7 columns]"
            ]
          },
          "metadata": {
            "tags": []
          },
          "execution_count": 5
        }
      ]
    },
    {
      "cell_type": "markdown",
      "metadata": {
        "id": "nguSgOSvHEPJ"
      },
      "source": [
        "Debido a que en los datos obtenidos hay valores atipicos, consideramos fundamental obtener la línea de tendencia para la realización de los gráficos de dispersión. De este modo, es más sencillo observar la relación entre las variables cuantitativas y la variable charges."
      ]
    },
    {
      "cell_type": "markdown",
      "metadata": {
        "id": "duhnHSTL1yWq"
      },
      "source": [
        "### **Age vs. Charges**\n",
        "\n",
        "\n"
      ]
    },
    {
      "cell_type": "code",
      "metadata": {
        "id": "3AKKjGNFC-EJ",
        "outputId": "cc2bf0f4-e243-46b4-fdcd-e259eec875d4",
        "colab": {
          "base_uri": "https://localhost:8080/",
          "height": 295
        }
      },
      "source": [
        "x= datos[\"age\"]\n",
        "y= datos[\"charges\"]\n",
        "plt.scatter(x, y)\n",
        "plt.title(\"Age vs. Charges\")\n",
        "plt.xlabel(\"Age\")\n",
        "plt.ylabel(\"Charges\")\n",
        "z = np.polyfit(x, y, 1)\n",
        "p = np.poly1d(z)\n",
        "plt.plot(x,p(x),\"r--\")\n",
        "plt.show()"
      ],
      "execution_count": null,
      "outputs": [
        {
          "output_type": "display_data",
          "data": {
            "image/png": "[encoded data removed]",
            "text/plain": [
              "<Figure size 432x288 with 1 Axes>"
            ]
          },
          "metadata": {
            "tags": [],
            "needs_background": "light"
          }
        }
      ]
    },
    {
      "cell_type": "markdown",
      "metadata": {
        "id": "TVAOSwhm7kb3"
      },
      "source": [
        "Se determina que hay una relación positiva, ya que los valores observados de ambas variables (age, charges) aumentan. \n",
        "Aunque algunos puntos no siguen el patrón exacto, la tendencia global es clara, desde la izquierda inferior a la derecha superior del gráfico. Entre más años tenga una persona, el costo del seguro médico aumenta."
      ]
    },
    {
      "cell_type": "markdown",
      "metadata": {
        "id": "qIIG5Xse2xU2"
      },
      "source": [
        "### **Bmi vs. Charges**"
      ]
    },
    {
      "cell_type": "code",
      "metadata": {
        "id": "IFXBnplfFBtq",
        "outputId": "c684aa33-ba53-4955-8825-a9d83d1f6d00",
        "colab": {
          "base_uri": "https://localhost:8080/",
          "height": 295
        }
      },
      "source": [
        "x= datos[\"bmi\"]\n",
        "y= datos[\"charges\"]\n",
        "plt.scatter(x, y)\n",
        "plt.title(\"Bmi vs. Charges\")\n",
        "plt.xlabel(\"Bmi\")\n",
        "plt.ylabel(\"Charges\")\n",
        "z = np.polyfit(x, y, 1)\n",
        "p = np.poly1d(z)\n",
        "plt.plot(x,p(x),\"r--\")\n",
        "plt.show()"
      ],
      "execution_count": null,
      "outputs": [
        {
          "output_type": "display_data",
          "data": {
            "image/png": "[encoded data removed]",
            "text/plain": [
              "<Figure size 432x288 with 1 Axes>"
            ]
          },
          "metadata": {
            "tags": [],
            "needs_background": "light"
          }
        }
      ]
    },
    {
      "cell_type": "markdown",
      "metadata": {
        "id": "YemCj_uy-sno"
      },
      "source": [
        "Al igual que el gráfico anterior este presenta una relación positiva. Sin embargo, al observar la pendiente de la línea de tendencia, es evidente que para este caso la relación entre la variable cuantitativa (bmi) y \"charges\" es mayor. Entre el índice de masa corporal de una persona sea más alto, el costo  del seguro médico aumentará de precio. "
      ]
    },
    {
      "cell_type": "markdown",
      "metadata": {
        "id": "AHT1Y5Vl3DGw"
      },
      "source": [
        "### **Children vs. Charges**"
      ]
    },
    {
      "cell_type": "code",
      "metadata": {
        "id": "lB9rv_LlFNbW",
        "outputId": "29b52565-ab60-4c67-83cb-c86f543fb0ee",
        "colab": {
          "base_uri": "https://localhost:8080/",
          "height": 295
        }
      },
      "source": [
        "x= datos[\"children\"]\n",
        "y= datos[\"charges\"]\n",
        "plt.scatter(x, y)\n",
        "plt.title(\"Children vs. Charges\")\n",
        "plt.xlabel(\"Children\")\n",
        "plt.ylabel(\"Charges\")\n",
        "z = np.polyfit(x, y, 1)\n",
        "p = np.poly1d(z)\n",
        "plt.plot(x,p(x),\"r--\")\n",
        "plt.show()"
      ],
      "execution_count": null,
      "outputs": [
        {
          "output_type": "display_data",
          "data": {
            "image/png": "[encoded data removed]",
            "text/plain": [
              "<Figure size 432x288 with 1 Axes>"
            ]
          },
          "metadata": {
            "tags": [],
            "needs_background": "light"
          }
        }
      ]
    },
    {
      "cell_type": "markdown",
      "metadata": {
        "id": "MTOilnEa3VRg"
      },
      "source": [
        "Según la línea de tendencia de este gráfico, no hay relación entre \"children\" y \"charges\". A pesar de ello, si se determina la relación despreciando la línea de tendencia, se concluye que a partir del cuarto hijo, el costo del seguro médico disminuye."
      ]
    },
    {
      "cell_type": "markdown",
      "metadata": {
        "id": "695Sup6s5XOc"
      },
      "source": [
        "## **2. Diagramas box-plot.**\n",
        "\n",
        "\n",
        "> Realizar gráficos box-plot de la variable charges acorde con las categorías de las variables categóricas y respoder: \n",
        "*   ¿Es posible observar un comportamiento diferente de la variable charges para las diferentes categorías de cada una de las variables categóricas?.\n",
        "*   ¿En cuál de estas variables es más evidente?.\n"
      ]
    },
    {
      "cell_type": "markdown",
      "metadata": {
        "id": "B9_Y7cro7Hen"
      },
      "source": [
        "### **Sex vs. Charges**"
      ]
    },
    {
      "cell_type": "code",
      "metadata": {
        "id": "KKyP_uJk50KE",
        "outputId": "b42a6753-f412-4dff-93e2-5af128b823ce",
        "colab": {
          "base_uri": "https://localhost:8080/",
          "height": 318
        }
      },
      "source": [
        "datos.boxplot(column='charges',by='sex')"
      ],
      "execution_count": null,
      "outputs": [
        {
          "output_type": "execute_result",
          "data": {
            "text/plain": [
              "<matplotlib.axes._subplots.AxesSubplot at 0x7f3cf4060b70>"
            ]
          },
          "metadata": {
            "tags": []
          },
          "execution_count": 9
        },
        {
          "output_type": "display_data",
          "data": {
            "image/png": "[encoded data removed]",
            "text/plain": [
              "<Figure size 432x288 with 1 Axes>"
            ]
          },
          "metadata": {
            "tags": [],
            "needs_background": "light"
          }
        }
      ]
    },
    {
      "cell_type": "markdown",
      "metadata": {
        "id": "dgPEo8B3sdv1"
      },
      "source": [
        "El comportamiento de las categorias de \"sex\" son totalmente distintos, ya que:\n",
        "* A pesar de que ambas categorías presentan gran cantidad de datos atípicos, se puede observar que la categoría *female* tiene más. \n",
        "* A su vez, se logra determinar que el límite superior de la categoría *male* es mayor. \n",
        "* Se aprecia que el sesgo de *male* es positivo, mientras que para *female* la mediana se sitúa en el centro de la caja  entonces la distribución es simétrica y tanto la media, mediana y moda coinciden.\n"
      ]
    },
    {
      "cell_type": "markdown",
      "metadata": {
        "id": "Kgw3Y8FS7c67"
      },
      "source": [
        "### **Smoker vs. Charges**"
      ]
    },
    {
      "cell_type": "code",
      "metadata": {
        "id": "e8z7H5bF7Zuv",
        "outputId": "eb345291-4990-4801-d1a3-4fc3d2ae5705",
        "colab": {
          "base_uri": "https://localhost:8080/",
          "height": 318
        }
      },
      "source": [
        "datos.boxplot(column='charges',by='smoker')"
      ],
      "execution_count": null,
      "outputs": [
        {
          "output_type": "execute_result",
          "data": {
            "text/plain": [
              "<matplotlib.axes._subplots.AxesSubplot at 0x7f3cf4c323c8>"
            ]
          },
          "metadata": {
            "tags": []
          },
          "execution_count": 10
        },
        {
          "output_type": "display_data",
          "data": {
            "image/png": "[encoded data removed]",
            "text/plain": [
              "<Figure size 432x288 with 1 Axes>"
            ]
          },
          "metadata": {
            "tags": [],
            "needs_background": "light"
          }
        }
      ]
    },
    {
      "cell_type": "markdown",
      "metadata": {
        "id": "oi-RbjPxwQLn"
      },
      "source": [
        "Igualmente que en el diagrama anterior, las categorías de \"smoker\" son muy diferentes en su comportamiento, puesto que:\n",
        "* Tanto el límite inferior y superior de la categoría *yes* es mayor.\n",
        "*  Se aprecia que el sesgo de *yes* es negativo, mientras que para *no* la distribución es simétrica.\n",
        "* La categoría *no* contiene gran cantidad de valores atípicos.\n"
      ]
    },
    {
      "cell_type": "markdown",
      "metadata": {
        "id": "CRjyNcYw7iXn"
      },
      "source": [
        "### **Region vs. Charges**"
      ]
    },
    {
      "cell_type": "code",
      "metadata": {
        "id": "grUtNHoF7wjo",
        "outputId": "26a2a04c-cdae-4bf7-f520-3dcb5538df09",
        "colab": {
          "base_uri": "https://localhost:8080/",
          "height": 318
        }
      },
      "source": [
        "datos.boxplot(column='charges',by='region')"
      ],
      "execution_count": null,
      "outputs": [
        {
          "output_type": "execute_result",
          "data": {
            "text/plain": [
              "<matplotlib.axes._subplots.AxesSubplot at 0x7f3cf3ebd518>"
            ]
          },
          "metadata": {
            "tags": []
          },
          "execution_count": 11
        },
        {
          "output_type": "display_data",
          "data": {
            "image/png": "[encoded data removed]",
            "text/plain": [
              "<Figure size 432x288 with 1 Axes>"
            ]
          },
          "metadata": {
            "tags": [],
            "needs_background": "light"
          }
        }
      ]
    },
    {
      "cell_type": "markdown",
      "metadata": {
        "id": "DlTp19A4zhkQ"
      },
      "source": [
        "En el caso de la variable categórica \"region\", la categoria *southeast* presenta un comportamiento diferente, en razón de que: \n",
        "* Las dimensiones de la caja de *southeast* que están determinadas por la distancia del rango intercuartílico, son considerablemente mayores que las demás categorías. \n",
        "* Es la única categoría que  su distribución no es simétrica, en cambio, esta posee sesgo positivo. \n"
      ]
    },
    {
      "cell_type": "markdown",
      "metadata": {
        "id": "vwV9QhGBR8j9"
      },
      "source": [
        "## **3. Modelo lineal.**\n",
        "\n",
        "\n",
        "> Compare un modelo lineal que relacione la variable charges (como variable de respuestas) con las variables age,  bmi, children, smoke con otro que relacione la variable charges  con las variables age,  bmi, children, smoke y región. \n",
        "\n"
      ]
    },
    {
      "cell_type": "markdown",
      "metadata": {
        "id": "EG7niwgWPXYf"
      },
      "source": [
        "### **Tratamiento de los datos**"
      ]
    },
    {
      "cell_type": "markdown",
      "metadata": {
        "id": "yTUlsAPnALOW"
      },
      "source": [
        "Para la elaboración de los modelos lineales, primero reemplazamos los valores de las variables categóricas (region y smoker) por valores enteros. Para esto se emplea la función *replace* de la librería *pandas*. "
      ]
    },
    {
      "cell_type": "code",
      "metadata": {
        "id": "BUHNzP5Eb4bo"
      },
      "source": [
        "datos['smoker']=datos['smoker'].replace('yes','0')\n",
        "datos['smoker']=datos['smoker'].replace('no','1')"
      ],
      "execution_count": null,
      "outputs": []
    },
    {
      "cell_type": "markdown",
      "metadata": {
        "id": "Rp9DTvqJBc3n"
      },
      "source": [
        "Reemplazo realizado para la variable smoker:\n",
        "\n",
        "\n",
        "*   Elemento \"yes\" por el valor 0.\n",
        "*   Elemento \"no\" por el valor 1.\n",
        "\n"
      ]
    },
    {
      "cell_type": "code",
      "metadata": {
        "id": "NeAMFo7af0MA"
      },
      "source": [
        "datos['region']=datos['region'].replace('southwest','0')\n",
        "datos['region']=datos['region'].replace('southeast','1')\n",
        "datos['region']=datos['region'].replace('northwest','2')\n",
        "datos['region']=datos['region'].replace('northeast','3')"
      ],
      "execution_count": null,
      "outputs": []
    },
    {
      "cell_type": "markdown",
      "metadata": {
        "id": "PMSNn2YMCAgX"
      },
      "source": [
        "Reemplazo realizado para la variable region:\n",
        "*   Elemento \"southwest\" por 0.\n",
        "*   Elemento \"southeast\" por 1.\n",
        "*   Elemento \"northwest\" por 2.\n",
        "*   Elemento \"northeast\" por 3.\n",
        " \n",
        "\n",
        "\n",
        "\n",
        "\n",
        "\n",
        "\n"
      ]
    },
    {
      "cell_type": "markdown",
      "metadata": {
        "id": "F7YAjwXdC9Yx"
      },
      "source": [
        "Aunque parezaca que las variables categoricas smoker y region ahora son variables cuantitativas, esto no es cierto, ya que sus valores en el data frame original son de tipo *object*. Por consiguiente, creamos variables auxiliares para hacer la conversión del tipo de datos, primero de *object* a *string*, y después de *string* a *int*. Finalmente las variables auxiliares, se añaden al data frame."
      ]
    },
    {
      "cell_type": "code",
      "metadata": {
        "id": "91lu2PJzpMox"
      },
      "source": [
        "smoker_aux=datos['smoker'].astype(str).astype(int)\n",
        "datos[\"smoker_aux\"]=smoker_aux"
      ],
      "execution_count": null,
      "outputs": []
    },
    {
      "cell_type": "code",
      "metadata": {
        "id": "BfOq0f0PnIQU"
      },
      "source": [
        "region_aux=datos['region'].astype(str).astype(int)\n",
        "datos[\"region_aux\"]=region_aux"
      ],
      "execution_count": null,
      "outputs": []
    },
    {
      "cell_type": "code",
      "metadata": {
        "id": "Py3kx1cmpXOO",
        "outputId": "65fe12c9-2bea-4f17-bd2a-f392ab7e3006",
        "colab": {
          "base_uri": "https://localhost:8080/",
          "height": 419
        }
      },
      "source": [
        "datos"
      ],
      "execution_count": null,
      "outputs": [
        {
          "output_type": "execute_result",
          "data": {
            "text/html": [
              "<div>\n",
              "<style scoped>\n",
              "    .dataframe tbody tr th:only-of-type {\n",
              "        vertical-align: middle;\n",
              "    }\n",
              "\n",
              "    .dataframe tbody tr th {\n",
              "        vertical-align: top;\n",
              "    }\n",
              "\n",
              "    .dataframe thead th {\n",
              "        text-align: right;\n",
              "    }\n",
              "</style>\n",
              "<table border=\"1\" class=\"dataframe\">\n",
              "  <thead>\n",
              "    <tr style=\"text-align: right;\">\n",
              "      <th></th>\n",
              "      <th>age</th>\n",
              "      <th>sex</th>\n",
              "      <th>bmi</th>\n",
              "      <th>children</th>\n",
              "      <th>smoker</th>\n",
              "      <th>region</th>\n",
              "      <th>charges</th>\n",
              "      <th>smoker_aux</th>\n",
              "      <th>region_aux</th>\n",
              "    </tr>\n",
              "  </thead>\n",
              "  <tbody>\n",
              "    <tr>\n",
              "      <th>0</th>\n",
              "      <td>19</td>\n",
              "      <td>female</td>\n",
              "      <td>27.900</td>\n",
              "      <td>0</td>\n",
              "      <td>0</td>\n",
              "      <td>0</td>\n",
              "      <td>16884.92400</td>\n",
              "      <td>0</td>\n",
              "      <td>0</td>\n",
              "    </tr>\n",
              "    <tr>\n",
              "      <th>1</th>\n",
              "      <td>18</td>\n",
              "      <td>male</td>\n",
              "      <td>33.770</td>\n",
              "      <td>1</td>\n",
              "      <td>1</td>\n",
              "      <td>1</td>\n",
              "      <td>1725.55230</td>\n",
              "      <td>1</td>\n",
              "      <td>1</td>\n",
              "    </tr>\n",
              "    <tr>\n",
              "      <th>2</th>\n",
              "      <td>28</td>\n",
              "      <td>male</td>\n",
              "      <td>33.000</td>\n",
              "      <td>3</td>\n",
              "      <td>1</td>\n",
              "      <td>1</td>\n",
              "      <td>4449.46200</td>\n",
              "      <td>1</td>\n",
              "      <td>1</td>\n",
              "    </tr>\n",
              "    <tr>\n",
              "      <th>3</th>\n",
              "      <td>33</td>\n",
              "      <td>male</td>\n",
              "      <td>22.705</td>\n",
              "      <td>0</td>\n",
              "      <td>1</td>\n",
              "      <td>2</td>\n",
              "      <td>21984.47061</td>\n",
              "      <td>1</td>\n",
              "      <td>2</td>\n",
              "    </tr>\n",
              "    <tr>\n",
              "      <th>4</th>\n",
              "      <td>32</td>\n",
              "      <td>male</td>\n",
              "      <td>28.880</td>\n",
              "      <td>0</td>\n",
              "      <td>1</td>\n",
              "      <td>2</td>\n",
              "      <td>3866.85520</td>\n",
              "      <td>1</td>\n",
              "      <td>2</td>\n",
              "    </tr>\n",
              "    <tr>\n",
              "      <th>...</th>\n",
              "      <td>...</td>\n",
              "      <td>...</td>\n",
              "      <td>...</td>\n",
              "      <td>...</td>\n",
              "      <td>...</td>\n",
              "      <td>...</td>\n",
              "      <td>...</td>\n",
              "      <td>...</td>\n",
              "      <td>...</td>\n",
              "    </tr>\n",
              "    <tr>\n",
              "      <th>1333</th>\n",
              "      <td>50</td>\n",
              "      <td>male</td>\n",
              "      <td>30.970</td>\n",
              "      <td>3</td>\n",
              "      <td>1</td>\n",
              "      <td>2</td>\n",
              "      <td>10600.54830</td>\n",
              "      <td>1</td>\n",
              "      <td>2</td>\n",
              "    </tr>\n",
              "    <tr>\n",
              "      <th>1334</th>\n",
              "      <td>18</td>\n",
              "      <td>female</td>\n",
              "      <td>31.920</td>\n",
              "      <td>0</td>\n",
              "      <td>1</td>\n",
              "      <td>3</td>\n",
              "      <td>2205.98080</td>\n",
              "      <td>1</td>\n",
              "      <td>3</td>\n",
              "    </tr>\n",
              "    <tr>\n",
              "      <th>1335</th>\n",
              "      <td>18</td>\n",
              "      <td>female</td>\n",
              "      <td>36.850</td>\n",
              "      <td>0</td>\n",
              "      <td>1</td>\n",
              "      <td>1</td>\n",
              "      <td>1629.83350</td>\n",
              "      <td>1</td>\n",
              "      <td>1</td>\n",
              "    </tr>\n",
              "    <tr>\n",
              "      <th>1336</th>\n",
              "      <td>21</td>\n",
              "      <td>female</td>\n",
              "      <td>25.800</td>\n",
              "      <td>0</td>\n",
              "      <td>1</td>\n",
              "      <td>0</td>\n",
              "      <td>2007.94500</td>\n",
              "      <td>1</td>\n",
              "      <td>0</td>\n",
              "    </tr>\n",
              "    <tr>\n",
              "      <th>1337</th>\n",
              "      <td>61</td>\n",
              "      <td>female</td>\n",
              "      <td>29.070</td>\n",
              "      <td>0</td>\n",
              "      <td>0</td>\n",
              "      <td>2</td>\n",
              "      <td>29141.36030</td>\n",
              "      <td>0</td>\n",
              "      <td>2</td>\n",
              "    </tr>\n",
              "  </tbody>\n",
              "</table>\n",
              "<p>1338 rows × 9 columns</p>\n",
              "</div>"
            ],
            "text/plain": [
              "      age     sex     bmi  children  ... region      charges  smoker_aux  region_aux\n",
              "0      19  female  27.900         0  ...      0  16884.92400           0           0\n",
              "1      18    male  33.770         1  ...      1   1725.55230           1           1\n",
              "2      28    male  33.000         3  ...      1   4449.46200           1           1\n",
              "3      33    male  22.705         0  ...      2  21984.47061           1           2\n",
              "4      32    male  28.880         0  ...      2   3866.85520           1           2\n",
              "...   ...     ...     ...       ...  ...    ...          ...         ...         ...\n",
              "1333   50    male  30.970         3  ...      2  10600.54830           1           2\n",
              "1334   18  female  31.920         0  ...      3   2205.98080           1           3\n",
              "1335   18  female  36.850         0  ...      1   1629.83350           1           1\n",
              "1336   21  female  25.800         0  ...      0   2007.94500           1           0\n",
              "1337   61  female  29.070         0  ...      2  29141.36030           0           2\n",
              "\n",
              "[1338 rows x 9 columns]"
            ]
          },
          "metadata": {
            "tags": []
          },
          "execution_count": 16
        }
      ]
    },
    {
      "cell_type": "code",
      "metadata": {
        "id": "8GiLIVeVlcUa",
        "outputId": "3a779f7e-d3c1-48a5-b580-539c959c4a11",
        "colab": {
          "base_uri": "https://localhost:8080/",
          "height": 187
        }
      },
      "source": [
        "datos.dtypes"
      ],
      "execution_count": null,
      "outputs": [
        {
          "output_type": "execute_result",
          "data": {
            "text/plain": [
              "age             int64\n",
              "sex            object\n",
              "bmi           float64\n",
              "children        int64\n",
              "smoker         object\n",
              "region         object\n",
              "charges       float64\n",
              "smoker_aux      int64\n",
              "region_aux      int64\n",
              "dtype: object"
            ]
          },
          "metadata": {
            "tags": []
          },
          "execution_count": 17
        }
      ]
    },
    {
      "cell_type": "markdown",
      "metadata": {
        "id": "5VtCKh5UHVA7"
      },
      "source": [
        "**Para el desarrollo de ambos modelos matemáticos, se implementa el algoritmo de Regresión Lineal Múltiple. Los modelos van a predecir el costo de un seguro médico, según los valores observados en las variables.**"
      ]
    },
    {
      "cell_type": "markdown",
      "metadata": {
        "id": "YkJqs1LFNxgy"
      },
      "source": [
        "La ecuación a utilizar para este modelo es:$$Y = m_1 X_1 + m_2 X_2 + … + m_n X_n+b$$"
      ]
    },
    {
      "cell_type": "markdown",
      "metadata": {
        "id": "-mYkkeLSFwM_"
      },
      "source": [
        "### **Primer modelo lineal**\n",
        "\n",
        "\n",
        ">De acuerdo a la edad, el indice de masa corporal, la cantidad de hijos y si la persona es o no fumadora.\n"
      ]
    },
    {
      "cell_type": "code",
      "metadata": {
        "id": "xeywB-ZO4qhl"
      },
      "source": [
        "from sklearn import datasets, linear_model"
      ],
      "execution_count": null,
      "outputs": []
    },
    {
      "cell_type": "markdown",
      "metadata": {
        "id": "mZF0HrDxIwXn"
      },
      "source": [
        "Se le asigna a \"X_multiple\" las columnas de las variables mencionadas, y a \"y\" la variable de respuesta *charges*."
      ]
    },
    {
      "cell_type": "code",
      "metadata": {
        "id": "33HgeTpp4uaJ"
      },
      "source": [
        "X_multiple = datos[0:1338][['age','bmi','children','smoker_aux']]"
      ],
      "execution_count": null,
      "outputs": []
    },
    {
      "cell_type": "code",
      "metadata": {
        "id": "oc91iHPY8-h_"
      },
      "source": [
        "y = datos.charges"
      ],
      "execution_count": null,
      "outputs": []
    },
    {
      "cell_type": "markdown",
      "metadata": {
        "id": "BghjzUrNKJFT"
      },
      "source": [
        "Se separan los datos de \"train\" en entrenamiento y prueba para probar los algoritmos, de los cuales se toma un 20% de estos."
      ]
    },
    {
      "cell_type": "code",
      "metadata": {
        "id": "HMCRHXPv9ByR"
      },
      "source": [
        "from sklearn.model_selection import train_test_split\n",
        "X_train, X_test, y_train, y_test = train_test_split(X_multiple, y, test_size=0.2)"
      ],
      "execution_count": null,
      "outputs": []
    },
    {
      "cell_type": "code",
      "metadata": {
        "id": "pirMorgU9TX4"
      },
      "source": [
        "lr_multiple = linear_model.LinearRegression() #definición del algoritmo a utilizar"
      ],
      "execution_count": null,
      "outputs": []
    },
    {
      "cell_type": "markdown",
      "metadata": {
        "id": "87Dl5zo4K5uM"
      },
      "source": [
        "Definido el algoritmo se procede a entrenar el modelo con los datos correspondiente, para ello utilizamos la instrucción fit."
      ]
    },
    {
      "cell_type": "code",
      "metadata": {
        "id": "9Vcm5SLj9XWz",
        "outputId": "c78f0d64-88ec-45f9-8de0-a844f02d9aac",
        "colab": {
          "base_uri": "https://localhost:8080/",
          "height": 34
        }
      },
      "source": [
        "lr_multiple.fit(X_train, y_train)"
      ],
      "execution_count": null,
      "outputs": [
        {
          "output_type": "execute_result",
          "data": {
            "text/plain": [
              "LinearRegression(copy_X=True, fit_intercept=True, n_jobs=None, normalize=False)"
            ]
          },
          "metadata": {
            "tags": []
          },
          "execution_count": 23
        }
      ]
    },
    {
      "cell_type": "markdown",
      "metadata": {
        "id": "h6MiquZTLHn8"
      },
      "source": [
        "Y finalmente se realiza la predicción utilizando los datos de prueba."
      ]
    },
    {
      "cell_type": "code",
      "metadata": {
        "id": "_wBCSTw_9a0s"
      },
      "source": [
        "Y_pred_multiple = lr_multiple.predict(X_test)"
      ],
      "execution_count": null,
      "outputs": []
    },
    {
      "cell_type": "code",
      "metadata": {
        "id": "kGUnUIxeSNxZ"
      },
      "source": [
        "pendientes1=lr_multiple.coef_\n",
        "interseccion1=lr_multiple.intercept_"
      ],
      "execution_count": null,
      "outputs": []
    },
    {
      "cell_type": "code",
      "metadata": {
        "id": "X3SlhgGWS0yG"
      },
      "source": [
        "presicion1=lr_multiple.score(X_train, y_train)"
      ],
      "execution_count": null,
      "outputs": []
    },
    {
      "cell_type": "markdown",
      "metadata": {
        "id": "jtBdwzBgOlJz"
      },
      "source": [
        "### **Segundo modelo lineal**\n",
        "\n",
        "\n",
        ">De acuerdo a la edad, el indice de masa corporal, la cantidad de hijos, si la persona es o no fumadora y la región donde vive.\n"
      ]
    },
    {
      "cell_type": "markdown",
      "metadata": {
        "id": "wrNkup0COlJ-"
      },
      "source": [
        "Se le asigna a \"X_multiple\" las columnas de las variables mencionadas, y a \"y\" la variable de respuesta *charges*."
      ]
    },
    {
      "cell_type": "code",
      "metadata": {
        "id": "eSfySj6hOlJ_"
      },
      "source": [
        "X_multiple = datos[0:1338][['age','bmi','children','smoker_aux','region_aux']]"
      ],
      "execution_count": null,
      "outputs": []
    },
    {
      "cell_type": "code",
      "metadata": {
        "id": "K6zwvHpaOlKF"
      },
      "source": [
        "y = datos.charges"
      ],
      "execution_count": null,
      "outputs": []
    },
    {
      "cell_type": "markdown",
      "metadata": {
        "id": "jOwNT89fOlKM"
      },
      "source": [
        "Se separan los datos de \"train\" en entrenamiento y prueba para probar los algoritmos, de los cuales se toma un 20% de estos."
      ]
    },
    {
      "cell_type": "code",
      "metadata": {
        "id": "aYsKzRmDOlKN"
      },
      "source": [
        "from sklearn.model_selection import train_test_split\n",
        "X_train, X_test, y_train, y_test = train_test_split(X_multiple, y, test_size=0.2)"
      ],
      "execution_count": null,
      "outputs": []
    },
    {
      "cell_type": "code",
      "metadata": {
        "id": "mAW6GhqQOlKT"
      },
      "source": [
        "lr2_multiple = linear_model.LinearRegression() #definición del algoritmo a utilizar"
      ],
      "execution_count": null,
      "outputs": []
    },
    {
      "cell_type": "markdown",
      "metadata": {
        "id": "KTPkPeBWOlKY"
      },
      "source": [
        "Definido el algoritmo se procede a entrenar el modelo con los datos correspondiente, para ello utilizamos la instrucción fit."
      ]
    },
    {
      "cell_type": "code",
      "metadata": {
        "id": "4gtbeFlbOlKZ",
        "outputId": "2312d202-fd36-4a8c-ad19-5c2f2f27e6a6",
        "colab": {
          "base_uri": "https://localhost:8080/",
          "height": 34
        }
      },
      "source": [
        "lr2_multiple.fit(X_train, y_train)"
      ],
      "execution_count": null,
      "outputs": [
        {
          "output_type": "execute_result",
          "data": {
            "text/plain": [
              "LinearRegression(copy_X=True, fit_intercept=True, n_jobs=None, normalize=False)"
            ]
          },
          "metadata": {
            "tags": []
          },
          "execution_count": 31
        }
      ]
    },
    {
      "cell_type": "markdown",
      "metadata": {
        "id": "yfrFGrEwOlKf"
      },
      "source": [
        "Y finalmente se realiza la predicción utilizando los datos de prueba."
      ]
    },
    {
      "cell_type": "code",
      "metadata": {
        "id": "_tYaufIqOlKg"
      },
      "source": [
        "Y_pred_multiple = lr2_multiple.predict(X_test)"
      ],
      "execution_count": null,
      "outputs": []
    },
    {
      "cell_type": "code",
      "metadata": {
        "id": "ovV1O4-qTmxx"
      },
      "source": [
        "pendientes2=lr2_multiple.coef_\n",
        "interseccion2=lr2_multiple.intercept_"
      ],
      "execution_count": null,
      "outputs": []
    },
    {
      "cell_type": "code",
      "metadata": {
        "id": "xHdLIgo0T5Kq"
      },
      "source": [
        "presicion2=lr2_multiple.score(X_train, y_train)"
      ],
      "execution_count": null,
      "outputs": []
    },
    {
      "cell_type": "markdown",
      "metadata": {
        "id": "cxqVb370RhBa"
      },
      "source": [
        "### **Comparación de los modelos**"
      ]
    },
    {
      "cell_type": "markdown",
      "metadata": {
        "id": "gjgTnZN5VdRZ"
      },
      "source": [
        "Pendientes (m):"
      ]
    },
    {
      "cell_type": "code",
      "metadata": {
        "id": "CMudlaCfSez9",
        "outputId": "edcad994-12c3-4226-a419-c6d021f3c13e",
        "colab": {
          "base_uri": "https://localhost:8080/",
          "height": 51
        }
      },
      "source": [
        "print('Modelo 1: \\n', pendientes1)"
      ],
      "execution_count": null,
      "outputs": [
        {
          "output_type": "stream",
          "text": [
            "Modelo 1: \n",
            " [   260.9528634     330.65116235    497.87836163 -23712.04757603]\n"
          ],
          "name": "stdout"
        }
      ]
    },
    {
      "cell_type": "code",
      "metadata": {
        "id": "VxZzPHopV6T6",
        "outputId": "8c8a1cb8-4da4-4693-ef22-92f1c0793d37",
        "colab": {
          "base_uri": "https://localhost:8080/",
          "height": 68
        }
      },
      "source": [
        "print('Modelo 2: \\n', pendientes2)"
      ],
      "execution_count": null,
      "outputs": [
        {
          "output_type": "stream",
          "text": [
            "Modelo 2: \n",
            " [   253.85803924    338.9859027     481.13430639 -24420.64484582\n",
            "    400.82018949]\n"
          ],
          "name": "stdout"
        }
      ]
    },
    {
      "cell_type": "markdown",
      "metadata": {
        "id": "-0nvKEuVWG-D"
      },
      "source": [
        "Intersecciones (b):"
      ]
    },
    {
      "cell_type": "code",
      "metadata": {
        "id": "WMtVFN11Tvub",
        "outputId": "e26c1c22-9090-4336-baad-ae8227621073",
        "colab": {
          "base_uri": "https://localhost:8080/",
          "height": 51
        }
      },
      "source": [
        "print('Modelo 1: \\n', interseccion1)"
      ],
      "execution_count": null,
      "outputs": [
        {
          "output_type": "stream",
          "text": [
            "Modelo 1: \n",
            " 11167.713136678452\n"
          ],
          "name": "stdout"
        }
      ]
    },
    {
      "cell_type": "code",
      "metadata": {
        "id": "a17M4uNtWVKi",
        "outputId": "ab905c74-cc80-4c92-96b9-2525575b0f46",
        "colab": {
          "base_uri": "https://localhost:8080/",
          "height": 51
        }
      },
      "source": [
        "print('Modelo 2: \\n', interseccion2)"
      ],
      "execution_count": null,
      "outputs": [
        {
          "output_type": "stream",
          "text": [
            "Modelo 2: \n",
            " 11277.938356005352\n"
          ],
          "name": "stdout"
        }
      ]
    },
    {
      "cell_type": "markdown",
      "metadata": {
        "id": "dVHKbqdRWgsm"
      },
      "source": [
        "Precisiones:"
      ]
    },
    {
      "cell_type": "code",
      "metadata": {
        "id": "jIIclu9HSgvx",
        "outputId": "cd2e1665-487b-48f9-988f-e1f709fe4144",
        "colab": {
          "base_uri": "https://localhost:8080/",
          "height": 51
        }
      },
      "source": [
        "print('Modelo 1: \\n', presicion1)"
      ],
      "execution_count": null,
      "outputs": [
        {
          "output_type": "stream",
          "text": [
            "Modelo 1: \n",
            " 0.7513353249719271\n"
          ],
          "name": "stdout"
        }
      ]
    },
    {
      "cell_type": "code",
      "metadata": {
        "id": "C8XZekoBTD2R",
        "outputId": "df7581a2-cbcb-48c5-d9e8-17a7a0f9c6e6",
        "colab": {
          "base_uri": "https://localhost:8080/",
          "height": 51
        }
      },
      "source": [
        "print('Modelo 2: \\n', presicion2)"
      ],
      "execution_count": null,
      "outputs": [
        {
          "output_type": "stream",
          "text": [
            "Modelo 2: \n",
            " 0.7636556297569999\n"
          ],
          "name": "stdout"
        }
      ]
    },
    {
      "cell_type": "markdown",
      "metadata": {
        "id": "9bZRVpx5W30Q"
      },
      "source": [
        "**Conclusiones**\n",
        "\n",
        "Entre más variables de entrada tenga un modelo matemático, en el que se haya implementado el algoritmo de Regresión Lineal Múltiple, la precisión de este mejorará. Ya que como se muestra en la comparación de los modelos realizados, la precisión del modelo que cuenta con una variable de más (segundo) aumento. Teniendo en cuenta que mientras el valor sea más cercano a 1 mejor será el modelo.\n",
        " \n",
        "Sin embargo, también es posible que no exista ninguna relación entre las variables de entrada y el costo del seguro médico, con lo cual nunca podremos predecir con certeza esta salida. \n"
      ]
    }
  ]
}